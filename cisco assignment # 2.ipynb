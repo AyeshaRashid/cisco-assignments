{
 "cells": [
  {
   "cell_type": "markdown",
   "metadata": {},
   "source": [
    "# cisco assignment # 2"
   ]
  },
  {
   "cell_type": "markdown",
   "metadata": {},
   "source": [
    "Q1: Write a program which takes 5 inputs from user for different subject’s marks, total it and generate mark sheet using grades ?"
   ]
  },
  {
   "cell_type": "code",
   "execution_count": 6,
   "metadata": {},
   "outputs": [
    {
     "name": "stdout",
     "output_type": "stream",
     "text": [
      "Enter marks of English: 56\n",
      "Enter marks of Maths: 78\n",
      "Enter marks of Urdu: 98\n",
      "Enter marks of Science: 98\n",
      "Enter marks of Computer: 78\n",
      "Your percentage is 81.6 and your grade is A\n"
     ]
    }
   ],
   "source": [
    "marks = \" \"\n",
    "English = float (input(\"Enter marks of English: \"))\n",
    "Maths = float (input(\"Enter marks of Maths: \"))\n",
    "Urdu = float (input(\"Enter marks of Urdu: \"))\n",
    "Science = float (input(\"Enter marks of Science: \"))\n",
    "Computer = float (input(\"Enter marks of Computer: \"))\n",
    "total = float(English + Maths + Urdu + Science + Computer)\n",
    "per = float((total/500)*100)\n",
    "\n",
    "\n",
    "if per>=90:\n",
    "    grade = \"A+\"\n",
    "elif per>=80:\n",
    "    grade = \"A\"\n",
    "elif per>=70:\n",
    "    grade = \"B\"\n",
    "elif per>=60:\n",
    "    grade = \"c\"\n",
    "elif per>=50:\n",
    "    grade = \"D\"\n",
    "else:\n",
    "    print(\"You are ungraded please try again\")\n",
    "print(f\"Your percentage is {per} and your grade is {grade}\")"
   ]
  },
  {
   "cell_type": "markdown",
   "metadata": {},
   "source": [
    "Q2: Write a program which take input from user and identify that the given number is even or odd?"
   ]
  },
  {
   "cell_type": "code",
   "execution_count": 7,
   "metadata": {},
   "outputs": [
    {
     "name": "stdout",
     "output_type": "stream",
     "text": [
      "Enter a number: 4\n",
      "This Number is even\n"
     ]
    }
   ],
   "source": [
    "number = int(input(\"Enter a number: \"))\n",
    "if number%2 == 0:\n",
    "    print(\"This Number is even\")\n",
    "elif number%2 != 0:\n",
    "    print(\"This Number is odd\")"
   ]
  },
  {
   "cell_type": "markdown",
   "metadata": {},
   "source": [
    "Q3: Write a program which print the length of the list?"
   ]
  },
  {
   "cell_type": "code",
   "execution_count": 8,
   "metadata": {},
   "outputs": [
    {
     "data": {
      "text/plain": [
       "10"
      ]
     },
     "execution_count": 8,
     "metadata": {},
     "output_type": "execute_result"
    }
   ],
   "source": [
    "list = [112, 224, 343, 454, 255, 670, 170, 580, 290, 100]\n",
    "len(list)"
   ]
  },
  {
   "cell_type": "markdown",
   "metadata": {},
   "source": [
    "Q4: Write a Python program to sum all the numeric items in a list?"
   ]
  },
  {
   "cell_type": "code",
   "execution_count": 9,
   "metadata": {},
   "outputs": [
    {
     "name": "stdout",
     "output_type": "stream",
     "text": [
      "25\n"
     ]
    }
   ],
   "source": [
    "numeric_items = [4, 7, 5, 3, 6]\n",
    "sum = 0\n",
    "for num in numeric_items:\n",
    "    sum = sum + num\n",
    "\n",
    "print(sum)"
   ]
  },
  {
   "cell_type": "markdown",
   "metadata": {},
   "source": [
    "Q5: Write a Python program to get the largest number from a numeric list."
   ]
  },
  {
   "cell_type": "code",
   "execution_count": 12,
   "metadata": {},
   "outputs": [
    {
     "name": "stdout",
     "output_type": "stream",
     "text": [
      "[112, 224, 343, 454, 255, 670, 170, 580, 290, 100]\n"
     ]
    },
    {
     "data": {
      "text/plain": [
       "670"
      ]
     },
     "execution_count": 12,
     "metadata": {},
     "output_type": "execute_result"
    }
   ],
   "source": [
    "print(list)\n",
    "max(list)"
   ]
  },
  {
   "cell_type": "markdown",
   "metadata": {},
   "source": [
    "Q6: write a program that prints out all the elements of the list that are less than 5."
   ]
  },
  {
   "cell_type": "code",
   "execution_count": 13,
   "metadata": {},
   "outputs": [
    {
     "name": "stdout",
     "output_type": "stream",
     "text": [
      "1\n",
      "2\n",
      "4\n",
      "3\n"
     ]
    }
   ],
   "source": [
    "elements = [11, 34, 1, 2, 16, 25, 4, 3, 10]\n",
    "for number in elements:\n",
    "    if number < 5:\n",
    "         print(number)"
   ]
  },
  {
   "cell_type": "code",
   "execution_count": null,
   "metadata": {},
   "outputs": [],
   "source": []
  }
 ],
 "metadata": {
  "kernelspec": {
   "display_name": "Python 3",
   "language": "python",
   "name": "python3"
  },
  "language_info": {
   "codemirror_mode": {
    "name": "ipython",
    "version": 3
   },
   "file_extension": ".py",
   "mimetype": "text/x-python",
   "name": "python",
   "nbconvert_exporter": "python",
   "pygments_lexer": "ipython3",
   "version": "3.7.3"
  }
 },
 "nbformat": 4,
 "nbformat_minor": 2
}
