{
 "cells": [
  {
   "cell_type": "markdown",
   "metadata": {},
   "source": [
    "# cisco assignment # 3"
   ]
  },
  {
   "cell_type": "markdown",
   "metadata": {},
   "source": [
    "Q1: Make a calculator using Python with addition , subtraction , multiplication , division and power."
   ]
  },
  {
   "cell_type": "code",
   "execution_count": 6,
   "metadata": {},
   "outputs": [
    {
     "name": "stdout",
     "output_type": "stream",
     "text": [
      "Enter first value: 5\n",
      "Enter Operator: +\n",
      "Enter second value: 3\n",
      "8 is the answer\n"
     ]
    }
   ],
   "source": [
    "value1 = int(input(\"Enter first value: \"))\n",
    "operator = input(\"Enter Operator: \")\n",
    "value2 = int(input(\"Enter second value: \"))\n",
    "\n",
    "if operator == '+':\n",
    "    value = value1 + value2\n",
    "    print(value, 'is the answer')\n",
    "elif operator == '-':\n",
    "    value = value1 - value2\n",
    "    print(value, 'is theanswer')\n",
    "elif operator == '*':\n",
    "    value = value1 * value2\n",
    "    print(value, 'is theanswer')\n",
    "elif operator == '/':\n",
    "    value = value1 / value2\n",
    "    print(value, 'is the answer')\n",
    "elif operator == '**':\n",
    "    value = value1 ** value2\n",
    "    print(value, 'is the answer')\n",
    "    \n",
    "else:\n",
    "    print(\"Enter correct Operator\")"
   ]
  },
  {
   "cell_type": "markdown",
   "metadata": {},
   "source": [
    "Q2: Write a program to check if there is any numeric value in list using for loop"
   ]
  },
  {
   "cell_type": "code",
   "execution_count": 16,
   "metadata": {},
   "outputs": [
    {
     "name": "stdout",
     "output_type": "stream",
     "text": [
      "Number is in the list\n"
     ]
    }
   ],
   "source": [
    "list = [3, 2, 7, 4, 1, 8]\n",
    "for i in list:\n",
    "    if i==7:\n",
    "        print(\"Number is in the list\")"
   ]
  },
  {
   "cell_type": "markdown",
   "metadata": {},
   "source": [
    "Q3: Write a Python script to add a key to a dictionary"
   ]
  },
  {
   "cell_type": "code",
   "execution_count": 22,
   "metadata": {},
   "outputs": [
    {
     "name": "stdout",
     "output_type": "stream",
     "text": [
      "{'Name1': 'Ayesha', 'Name2': 'Aliza', 'Name3': 'Maha', 'Name4': 'Zoha', 'Class': 'Cisco'}\n"
     ]
    }
   ],
   "source": [
    "dict1 = {\"Name1\": \"Ayesha\", \"Name2\": \"Aliza\", \"Name3\": \"Maha\", \"Name4\": \"Zoha\"}\n",
    "dict1[\"Class\"] = \"Cisco\"\n",
    "print(dict1)"
   ]
  },
  {
   "cell_type": "markdown",
   "metadata": {},
   "source": [
    "Q4: Write a program to identify duplicate values from list"
   ]
  },
  {
   "cell_type": "code",
   "execution_count": 33,
   "metadata": {},
   "outputs": [
    {
     "name": "stdout",
     "output_type": "stream",
     "text": [
      "[40, 30, -20, 60]\n"
     ]
    }
   ],
   "source": [
    "def Repeat(x): \n",
    "    _size = len(x) \n",
    "    repeated = [] \n",
    "    for i in range(_size): \n",
    "        k = i + 1\n",
    "        for j in range(k, _size): \n",
    "            if x[i] == x[j] and x[i] not in repeated: \n",
    "                repeated.append(x[i]) \n",
    "    return repeated \n",
    "  \n",
    "# Driver Code \n",
    "list1 = [10, 40, 30, 40, 20, 30, 40,  \n",
    "         50, -20, 60, 60, -20, -20] \n",
    "print (Repeat(list1))"
   ]
  },
  {
   "cell_type": "markdown",
   "metadata": {},
   "source": [
    "Q5: Write a Python script to check if a given key already exists in a dictionary"
   ]
  },
  {
   "cell_type": "code",
   "execution_count": 52,
   "metadata": {},
   "outputs": [],
   "source": [
    "key1 = {2, 6, 8, 3, 5}\n",
    "dict = {1, 2, 3, 4, 5, 6, 7, 8, 9, 10, 11, 12}"
   ]
  },
  {
   "cell_type": "code",
   "execution_count": 53,
   "metadata": {},
   "outputs": [
    {
     "name": "stdout",
     "output_type": "stream",
     "text": [
      "No Duplicate\n"
     ]
    }
   ],
   "source": [
    "if key1 in dict:\n",
    "  print (\"Duplicate\")\n",
    "else:\n",
    "  print (\"No Duplicate\")"
   ]
  },
  {
   "cell_type": "code",
   "execution_count": null,
   "metadata": {},
   "outputs": [],
   "source": []
  }
 ],
 "metadata": {
  "kernelspec": {
   "display_name": "Python 3",
   "language": "python",
   "name": "python3"
  },
  "language_info": {
   "codemirror_mode": {
    "name": "ipython",
    "version": 3
   },
   "file_extension": ".py",
   "mimetype": "text/x-python",
   "name": "python",
   "nbconvert_exporter": "python",
   "pygments_lexer": "ipython3",
   "version": "3.7.3"
  }
 },
 "nbformat": 4,
 "nbformat_minor": 2
}
