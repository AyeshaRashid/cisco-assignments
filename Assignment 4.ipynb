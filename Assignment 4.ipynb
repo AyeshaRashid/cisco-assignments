{
 "cells": [
  {
   "cell_type": "markdown",
   "metadata": {},
   "source": [
    "### Assignment 4"
   ]
  },
  {
   "cell_type": "markdown",
   "metadata": {},
   "source": [
    "Q1"
   ]
  },
  {
   "cell_type": "code",
   "execution_count": 1,
   "metadata": {},
   "outputs": [],
   "source": [
    "person_info = {\"first_name\": \"Ayesha\", \"last_name\": \"Rashid\", \"age\": 24, \"city\": \"karachi\"}"
   ]
  },
  {
   "cell_type": "code",
   "execution_count": 2,
   "metadata": {},
   "outputs": [
    {
     "data": {
      "text/plain": [
       "{'first_name': 'Ayesha', 'last_name': 'Rashid', 'age': 24, 'city': 'karachi'}"
      ]
     },
     "execution_count": 2,
     "metadata": {},
     "output_type": "execute_result"
    }
   ],
   "source": [
    "person_info"
   ]
  },
  {
   "cell_type": "code",
   "execution_count": 4,
   "metadata": {},
   "outputs": [],
   "source": [
    "person_info[\"qualification\"] = \"Engineer\""
   ]
  },
  {
   "cell_type": "code",
   "execution_count": 5,
   "metadata": {},
   "outputs": [
    {
     "data": {
      "text/plain": [
       "{'first_name': 'Ayesha',\n",
       " 'last_name': 'Rashid',\n",
       " 'age': 24,\n",
       " 'city': 'karachi',\n",
       " 'qualification': 'Engineer'}"
      ]
     },
     "execution_count": 5,
     "metadata": {},
     "output_type": "execute_result"
    }
   ],
   "source": [
    "person_info"
   ]
  },
  {
   "cell_type": "code",
   "execution_count": 6,
   "metadata": {},
   "outputs": [],
   "source": [
    "del person_info[\"qualification\"]"
   ]
  },
  {
   "cell_type": "code",
   "execution_count": 7,
   "metadata": {},
   "outputs": [
    {
     "data": {
      "text/plain": [
       "{'first_name': 'Ayesha', 'last_name': 'Rashid', 'age': 24, 'city': 'karachi'}"
      ]
     },
     "execution_count": 7,
     "metadata": {},
     "output_type": "execute_result"
    }
   ],
   "source": [
    "person_info"
   ]
  },
  {
   "cell_type": "markdown",
   "metadata": {},
   "source": [
    "Q2"
   ]
  },
  {
   "cell_type": "code",
   "execution_count": 8,
   "metadata": {},
   "outputs": [],
   "source": [
    "cities = {\"karachi\":\"abc\" }"
   ]
  },
  {
   "cell_type": "code",
   "execution_count": 9,
   "metadata": {},
   "outputs": [
    {
     "data": {
      "text/plain": [
       "{'karachi': 'abc'}"
      ]
     },
     "execution_count": 9,
     "metadata": {},
     "output_type": "execute_result"
    }
   ],
   "source": [
    "cities"
   ]
  },
  {
   "cell_type": "code",
   "execution_count": 13,
   "metadata": {},
   "outputs": [
    {
     "data": {
      "text/plain": [
       "{'karachi': {'fact': 'karachi is the biggest city of Pakistan',\n",
       "  'population': '20 millions',\n",
       "  'country name': 'Pakistan'}}"
      ]
     },
     "execution_count": 13,
     "metadata": {},
     "output_type": "execute_result"
    }
   ],
   "source": [
    "cities[\"karachi\"] = {\n",
    "    'fact': 'karachi is the biggest city of Pakistan',\n",
    "    'population': '20 millions',\n",
    "    'country name': 'Pakistan'}\n",
    "cities"
   ]
  },
  {
   "cell_type": "code",
   "execution_count": 14,
   "metadata": {},
   "outputs": [
    {
     "data": {
      "text/plain": [
       "{'karachi': {'fact': 'karachi is the biggest city of Pakistan',\n",
       "  'population': '20 millions',\n",
       "  'country name': 'Pakistan'},\n",
       " 'Lahore': {'fact': 'Lahore is the biggest city of Pakistan',\n",
       "  'population': '20 millions',\n",
       "  'country name': 'Pakistan'}}"
      ]
     },
     "execution_count": 14,
     "metadata": {},
     "output_type": "execute_result"
    }
   ],
   "source": [
    "cities[\"Lahore\"] = {\n",
    "    'fact': 'Lahore is the biggest city of Pakistan',\n",
    "    'population': '20 millions',\n",
    "    'country name': 'Pakistan'}\n",
    "cities"
   ]
  },
  {
   "cell_type": "code",
   "execution_count": 15,
   "metadata": {},
   "outputs": [
    {
     "data": {
      "text/plain": [
       "{'karachi': {'fact': 'karachi is the biggest city of Pakistan',\n",
       "  'population': '20 millions',\n",
       "  'country name': 'Pakistan'},\n",
       " 'Lahore': {'fact': 'Lahore is the biggest city of Pakistan',\n",
       "  'population': '20 millions',\n",
       "  'country name': 'Pakistan'},\n",
       " 'islamabad': {'fact': 'islamabad is the capital city of Pakistan',\n",
       "  'population': '10 millions',\n",
       "  'country name': 'Pakistan'}}"
      ]
     },
     "execution_count": 15,
     "metadata": {},
     "output_type": "execute_result"
    }
   ],
   "source": [
    "cities[\"islamabad\"] = {\n",
    "    'fact': 'islamabad is the capital city of Pakistan',\n",
    "    'population': '10 millions',\n",
    "    'country name': 'Pakistan'}\n",
    "cities"
   ]
  },
  {
   "cell_type": "code",
   "execution_count": 28,
   "metadata": {},
   "outputs": [
    {
     "name": "stdout",
     "output_type": "stream",
     "text": [
      "karachi {'fact': 'karachi is the biggest city of Pakistan', 'population': '20 millions', 'country name': 'Pakistan'}\n",
      "Lahore {'fact': 'Lahore is the biggest city of Pakistan', 'population': '20 millions', 'country name': 'Pakistan'}\n",
      "islamabad {'fact': 'islamabad is the capital city of Pakistan', 'population': '10 millions', 'country name': 'Pakistan'}\n"
     ]
    }
   ],
   "source": [
    "for k,v in cities.items():\n",
    "    print(k , v)"
   ]
  },
  {
   "cell_type": "code",
   "execution_count": 21,
   "metadata": {},
   "outputs": [
    {
     "name": "stdout",
     "output_type": "stream",
     "text": [
      "{'fact': 'Lahore is the biggest city of Pakistan', 'population': '20 millions', 'country name': 'Pakistan'}\n"
     ]
    }
   ],
   "source": [
    "print(cities[\"Lahore\"])"
   ]
  },
  {
   "cell_type": "code",
   "execution_count": null,
   "metadata": {},
   "outputs": [],
   "source": []
  },
  {
   "cell_type": "markdown",
   "metadata": {},
   "source": [
    "Q3"
   ]
  },
  {
   "cell_type": "code",
   "execution_count": 62,
   "metadata": {},
   "outputs": [
    {
     "name": "stdout",
     "output_type": "stream",
     "text": [
      "please enter your age = 22\n",
      "Ticke is $15\n"
     ]
    }
   ],
   "source": [
    "age = int(input(\"please enter your age = \"))\n",
    "while True:\n",
    "    if age <= 3:\n",
    "        print(\"Ticket is Free for Under 3 years Old\")\n",
    "        break\n",
    "    elif age < 12:\n",
    "        print(\"Ticket is $10\")\n",
    "        break\n",
    "    elif age > 12:\n",
    "        print(\"Ticke is $15\")\n",
    "        break"
   ]
  },
  {
   "cell_type": "markdown",
   "metadata": {},
   "source": [
    "Q4"
   ]
  },
  {
   "cell_type": "code",
   "execution_count": 63,
   "metadata": {},
   "outputs": [],
   "source": [
    "def favorite_book(title = \"Alice in Wonderland\"):\n",
    "    return \"My Favourite Book is \" + title"
   ]
  },
  {
   "cell_type": "code",
   "execution_count": 64,
   "metadata": {},
   "outputs": [
    {
     "data": {
      "text/plain": [
       "'My Favourite Book is Alice in Wonderland'"
      ]
     },
     "execution_count": 64,
     "metadata": {},
     "output_type": "execute_result"
    }
   ],
   "source": [
    "favorite_book()"
   ]
  },
  {
   "cell_type": "markdown",
   "metadata": {},
   "source": [
    "Q5"
   ]
  },
  {
   "cell_type": "code",
   "execution_count": 67,
   "metadata": {},
   "outputs": [
    {
     "name": "stdout",
     "output_type": "stream",
     "text": [
      "Guess: 40\n",
      "Hint: Num is greater than 30 & Less than 60\n",
      "Congrats You Won!\n"
     ]
    }
   ],
   "source": [
    "secret_num = 40\n",
    "guess_count = 0\n",
    "guess_limit = 3\n",
    "while guess_count < guess_limit:\n",
    "    guess = int(input(\"Guess: \"))\n",
    "    guess_count += 1\n",
    "    if guess_count <3:\n",
    "        print(\"Hint: Num is greater than 30 & Less than 60\")\n",
    "    if secret_num == guess:\n",
    "        print('Congrats You Won!')\n",
    "        break\n",
    "else:\n",
    "    print('Sorry you have Failed')"
   ]
  },
  {
   "cell_type": "code",
   "execution_count": null,
   "metadata": {},
   "outputs": [],
   "source": []
  }
 ],
 "metadata": {
  "kernelspec": {
   "display_name": "Python 3",
   "language": "python",
   "name": "python3"
  },
  "language_info": {
   "codemirror_mode": {
    "name": "ipython",
    "version": 3
   },
   "file_extension": ".py",
   "mimetype": "text/x-python",
   "name": "python",
   "nbconvert_exporter": "python",
   "pygments_lexer": "ipython3",
   "version": "3.7.3"
  }
 },
 "nbformat": 4,
 "nbformat_minor": 2
}
